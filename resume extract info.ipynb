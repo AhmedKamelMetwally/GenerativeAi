{
 "cells": [
  {
   "cell_type": "code",
   "execution_count": 123,
   "id": "0c105500-ffe8-408a-b0f2-0b57b0e68e3b",
   "metadata": {},
   "outputs": [],
   "source": [
    "from langchain_community.chat_models import ChatOllama\n",
    "from typing import Optional\n",
    "from pydantic import BaseModel"
   ]
  },
  {
   "cell_type": "code",
   "execution_count": 125,
   "id": "a0d7b6e0-d33c-4f0c-9c04-f008b24f41fb",
   "metadata": {},
   "outputs": [],
   "source": [
    "\n",
    "\n",
    "schema = {\n",
    "    \"type\": \"object\",\n",
    "    \"properties\": {\n",
    "        \"first_name\": {\"type\": \"string\"},\n",
    "        \"last_name\": {\"type\": \"string\"},\n",
    "        \"email\": {\"type\": \"string\"},\n",
    "        \"university\": {\"type\": \"string\"},\n",
    "        \"degree\": {\"type\": \"string\"},\n",
    "        \"company\": {\"type\": \"string\"},\n",
    "        \"job_title\": {\"type\": \"string\"}\n",
    "    },\n",
    "    \"required\": [\"first_name\", \"last_name\"]\n",
    "}"
   ]
  },
  {
   "cell_type": "code",
   "execution_count": 131,
   "id": "6fd76acc-bc7a-469e-80d1-b3e29e23a383",
   "metadata": {},
   "outputs": [
    {
     "name": "stdout",
     "output_type": "stream",
     "text": [
      "```json\n",
      "{\n",
      "  \"first_name\": \"Ahmed\",\n",
      "  \"last_name\": \"Kamel\",\n",
      "  \"email\": \"ahmedkamel1729@gmail.com\",\n",
      "  \"university\": \"Zagazig university\",\n",
      "  \"degree\": \"Mechatronics, Robotics, and Automation Engineering\",\n",
      "  \"company\": \"Energya elsewedy Helal factory\",\n",
      "  \"job_title\": \"Data Analyst\"\n",
      "}\n",
      "```\n"
     ]
    }
   ],
   "source": [
    "from langchain_community.chat_models import ChatOllama\n",
    "from langchain_core.prompts import ChatPromptTemplate\n",
    "from langchain.document_loaders import PyPDFLoader\n",
    "\n",
    "\n",
    "loader = PyPDFLoader(\"C:/Users/akmet/OneDrive/Desktop/Ahmed_CV_Y2025.pdf\")\n",
    "docs = loader.load_and_split()\n",
    "text = \"\\n\".join([doc.page_content for doc in docs])\n",
    "\n",
    "\n",
    "llm = ChatOllama(model=\"gemma\")\n",
    "\n",
    "\n",
    "prompt = ChatPromptTemplate.from_template(\"\"\"\n",
    "You are an AI that extracts structured resume data from unstructured text.\n",
    "\n",
    "Given the resume content below, extract the following fields in JSON format:\n",
    "- first_name\n",
    "- last_name\n",
    "- email\n",
    "- university\n",
    "- degree\n",
    "- company\n",
    "- job_title\n",
    "\n",
    "Resume:\n",
    "{text}\n",
    "\n",
    "Return only valid JSON.\n",
    "\"\"\")\n",
    "\n",
    "chain = prompt | llm\n",
    "response = chain.invoke({\"text\": text})\n",
    "print(response.content)"
   ]
  },
  {
   "cell_type": "code",
   "execution_count": null,
   "id": "1654eabb-a163-4eca-a1a4-7c9a12f7ec33",
   "metadata": {},
   "outputs": [],
   "source": []
  },
  {
   "cell_type": "code",
   "execution_count": null,
   "id": "f5c7540f-3539-4368-b64a-d642d1d17a1d",
   "metadata": {},
   "outputs": [],
   "source": []
  }
 ],
 "metadata": {
  "kernelspec": {
   "display_name": "Python 3 (ipykernel)",
   "language": "python",
   "name": "python3"
  },
  "language_info": {
   "codemirror_mode": {
    "name": "ipython",
    "version": 3
   },
   "file_extension": ".py",
   "mimetype": "text/x-python",
   "name": "python",
   "nbconvert_exporter": "python",
   "pygments_lexer": "ipython3",
   "version": "3.12.4"
  }
 },
 "nbformat": 4,
 "nbformat_minor": 5
}
