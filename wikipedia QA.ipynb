{
 "cells": [
  {
   "cell_type": "code",
   "execution_count": 7,
   "id": "50fee931-8cb2-4f4b-8b92-658486d887ab",
   "metadata": {},
   "outputs": [],
   "source": [
    "from langchain.agents import AgentExecutor,AgentType,initialize_agent,load_tools\n",
    "from langchain_community.chat_models import ChatOllama\n",
    "import streamlit as st\n",
    "from langchain.callbacks import StreamlitCallbackHandler"
   ]
  },
  {
   "cell_type": "code",
   "execution_count": 8,
   "id": "94abe834-eb24-488a-ba82-869ba0e81287",
   "metadata": {},
   "outputs": [],
   "source": [
    "\n",
    "def agent_load()->AgentExecutor:\n",
    "    llm = ChatOllama(model=\"mistral-small3.1\")\n",
    "    tools=load_tools(tool_names=[\"wikipedia\"],llm=llm)\n",
    "    return initialize_agent(tools=tools,llm=llm,agent=AgentType.ZERO_SHOT_REACT_DESCRIPTION,verbose=True)\n",
    " \n"
   ]
  },
  {
   "cell_type": "code",
   "execution_count": 13,
   "id": "4f3f1a4d-2950-49a4-9740-972dd1b6c08f",
   "metadata": {},
   "outputs": [
    {
     "name": "stderr",
     "output_type": "stream",
     "text": [
      "C:\\Users\\akmet\\anaconda3\\Lib\\site-packages\\langchain_core\\_api\\deprecation.py:119: LangChainDeprecationWarning: The function `initialize_agent` was deprecated in LangChain 0.1.0 and will be removed in 0.3.0. Use Use new agent constructor methods like create_react_agent, create_json_agent, create_structured_chat_agent, etc. instead.\n",
      "  warn_deprecated(\n"
     ]
    }
   ],
   "source": [
    "chain=agent_load()"
   ]
  },
  {
   "cell_type": "code",
   "execution_count": 17,
   "id": "32b71086-a955-4a75-8aa3-54a783208563",
   "metadata": {},
   "outputs": [
    {
     "name": "stderr",
     "output_type": "stream",
     "text": [
      "2025-05-06 22:26:43.943 \n",
      "  \u001b[33m\u001b[1mWarning:\u001b[0m to view this Streamlit app on a browser, run it with the following\n",
      "  command:\n",
      "\n",
      "    streamlit run C:\\Users\\akmet\\anaconda3\\Lib\\site-packages\\ipykernel_launcher.py [ARGUMENTS]\n"
     ]
    }
   ],
   "source": [
    "import streamlit as st\n",
    "from langchain.callbacks.streamlit import StreamlitCallbackHandler\n",
    "\n",
    "\n",
    "\n",
    "st.title(\"AI Chat Assistant\")\n",
    "\n",
    "\n",
    "if prompt := st.chat_input(\"Ask me anything...\"):\n",
    "    st.chat_message(\"user\").write(prompt)\n",
    "\n",
    "    with st.chat_message(\"assistant\"):\n",
    "        st_callback = StreamlitCallbackHandler(st.container())\n",
    "        response = chain.run(prompt, callbacks=[st_callback])\n",
    "        st.write(response)"
   ]
  },
  {
   "cell_type": "code",
   "execution_count": 23,
   "id": "edbf9e8b-758b-45ca-8499-55ecbc5abd5e",
   "metadata": {},
   "outputs": [
    {
     "ename": "SyntaxError",
     "evalue": "invalid syntax (474483050.py, line 1)",
     "output_type": "error",
     "traceback": [
      "\u001b[1;36m  Cell \u001b[1;32mIn[23], line 1\u001b[1;36m\u001b[0m\n\u001b[1;33m    streamlit run C:\\Users\\akmet\\anaconda3\\Lib\\site-packages\\ipykernel_launcher.py\u001b[0m\n\u001b[1;37m              ^\u001b[0m\n\u001b[1;31mSyntaxError\u001b[0m\u001b[1;31m:\u001b[0m invalid syntax\n"
     ]
    }
   ],
   "source": []
  },
  {
   "cell_type": "code",
   "execution_count": null,
   "id": "48d8ff86-8af1-4286-86f4-050dee4fb143",
   "metadata": {},
   "outputs": [],
   "source": []
  }
 ],
 "metadata": {
  "kernelspec": {
   "display_name": "Python 3 (ipykernel)",
   "language": "python",
   "name": "python3"
  },
  "language_info": {
   "codemirror_mode": {
    "name": "ipython",
    "version": 3
   },
   "file_extension": ".py",
   "mimetype": "text/x-python",
   "name": "python",
   "nbconvert_exporter": "python",
   "pygments_lexer": "ipython3",
   "version": "3.12.4"
  }
 },
 "nbformat": 4,
 "nbformat_minor": 5
}
